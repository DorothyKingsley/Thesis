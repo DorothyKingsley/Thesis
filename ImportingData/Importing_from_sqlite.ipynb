{
 "cells": [
  {
   "cell_type": "code",
   "execution_count": 1,
   "metadata": {},
   "outputs": [],
   "source": [
    "import sqlite3\n",
    "import pandas as pd\n",
    "# Create your connection.\n",
    "cnx = sqlite3.connect(\"GDA_2016_SA.sqlite\")\n",
    "df = pd.read_sql_query(\"SELECT * FROM GDA_2016_SA\", cnx)\n",
    "df1 = df.drop_duplicates(subset='small_area', keep='first')\n",
    "df1.to_csv(\"GDA_2016_SA.csv\", index=False)"
   ]
  },
  {
   "cell_type": "code",
   "execution_count": 18,
   "metadata": {},
   "outputs": [],
   "source": [
    "# pd.set_option('display.max_rows', )\n",
    "# pd.set_option('display.max_columns', 5000)\n",
    "# pd.set_option('display.width', 5000)\n",
    "df1[df1.columns[:100]]\n",
    "df2=df1.filter([\"small_area\",\"shape__are\",\"shape__len\"],axis=1)\n",
    "#new = old.filter(['A','B','D'], axis=1)\n",
    "df2.to_csv(\"GDA_Shape.csv\",index=False)"
   ]
  },
  {
   "cell_type": "code",
   "execution_count": 2,
   "metadata": {},
   "outputs": [
    {
     "data": {
      "text/plain": [
       "4881"
      ]
     },
     "execution_count": 2,
     "metadata": {},
     "output_type": "execute_result"
    }
   ],
   "source": [
    "len(df1)"
   ]
  },
  {
   "cell_type": "code",
   "execution_count": 3,
   "metadata": {},
   "outputs": [],
   "source": [
    "#Saving the SA names and their unique ID for future purposes in a csv file\n",
    "df2=df1[['ogc_fid','fid','ogc_fid1','ogc_fid0','edname','small_area']]\n",
    "df2.to_csv('GDA_Smallarea.csv',index=False)"
   ]
  }
 ],
 "metadata": {
  "kernelspec": {
   "display_name": "Python 3",
   "language": "python",
   "name": "python3"
  },
  "language_info": {
   "codemirror_mode": {
    "name": "ipython",
    "version": 3
   },
   "file_extension": ".py",
   "mimetype": "text/x-python",
   "name": "python",
   "nbconvert_exporter": "python",
   "pygments_lexer": "ipython3",
   "version": "3.7.3"
  }
 },
 "nbformat": 4,
 "nbformat_minor": 2
}
